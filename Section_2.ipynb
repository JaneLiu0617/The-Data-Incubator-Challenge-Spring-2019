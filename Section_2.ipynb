{
 "cells": [
  {
   "cell_type": "code",
   "execution_count": null,
   "metadata": {},
   "outputs": [],
   "source": [
    "\"\"\"\n",
    "A sequence of n numbers is considered valid if the sequence begins with 1, ends with a given number j, \n",
    "and no two adjacent numbers are the same. \n",
    "Sequences may use any integers between 1 and a given number k, inclusive (also 1<=j<=k). \n",
    "Given parameters n, j, and k, count the number of valid sequences. \n",
    "The number of valid sequences may be very large, so express your answer modulo 10^10+7.\n",
    "\"\"\""
   ]
  },
  {
   "cell_type": "code",
   "execution_count": 105,
   "metadata": {},
   "outputs": [
    {
     "name": "stdout",
     "output_type": "stream",
     "text": [
      "7\n",
      "9702\n",
      "7934293301\n",
      "4403056638\n",
      "1926411550\n",
      "8051788353\n"
     ]
    }
   ],
   "source": [
    "def count_seq(n, j, k):\n",
    "    \n",
    "    # Dynamic programming\n",
    "    \n",
    "    dp1 = list(range(n+1)) # count of sequences ending with j, whose length equals its index.\n",
    "    dp2 = list(range(n+1)) # count of sequences not ending with j, whose length equals its index.\n",
    "    modu = 10 ** 10 + 7\n",
    "    \n",
    "    if j == 1:\n",
    "        dp1[2] = 0\n",
    "        dp2[2] = k-1\n",
    "    else:\n",
    "        dp1[2] = 1\n",
    "        dp2[2] = k-2\n",
    "            \n",
    "\n",
    "    for i in range(3, n+1):\n",
    "        dp1[i] = dp2[i-1];\n",
    "        dp2[i] = (dp1[i-1] * (k-1)) % modu+ (dp2[i-1] * (k-2)) % modu\n",
    "        dp2[i] %= modu\n",
    "\n",
    "    return dp1[n] % modu\n",
    "\n",
    "if __name__ == \"__main__\":\n",
    "    \n",
    "    n = [4, 4, 100, 347, 1260000, 10000000]\n",
    "    j = [2, 1, 1, 829, 1, 829]\n",
    "    k = [4, 100, 100, 2281, 4170000, 1000000000000]\n",
    "    \n",
    "    for i in range(6):\n",
    "        print(count_seq(n[i], j[i], k[i]))"
   ]
  }
 ],
 "metadata": {
  "kernelspec": {
   "display_name": "Python 3",
   "language": "python",
   "name": "python3"
  },
  "language_info": {
   "codemirror_mode": {
    "name": "ipython",
    "version": 3
   },
   "file_extension": ".py",
   "mimetype": "text/x-python",
   "name": "python",
   "nbconvert_exporter": "python",
   "pygments_lexer": "ipython3",
   "version": "3.7.3"
  }
 },
 "nbformat": 4,
 "nbformat_minor": 2
}
